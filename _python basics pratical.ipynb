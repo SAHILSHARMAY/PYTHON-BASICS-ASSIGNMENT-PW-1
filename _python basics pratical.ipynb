{
 "cells": [
  {
   "cell_type": "raw",
   "id": "b7e94ce5-bf9f-4dea-bde2-6c3a08274661",
   "metadata": {},
   "source": [
    "PYTHON BASICS PRATICAL"
   ]
  },
  {
   "cell_type": "raw",
   "id": "e20c430d-49b4-494a-ace5-8070a0569c38",
   "metadata": {},
   "source": [
    "Q1. Write a python program to print \"Hello,World!\""
   ]
  },
  {
   "cell_type": "code",
   "execution_count": 1,
   "id": "64d48ff8-3489-4908-9362-b3a35e039e1e",
   "metadata": {},
   "outputs": [
    {
     "name": "stdout",
     "output_type": "stream",
     "text": [
      "Hello, World!\n"
     ]
    }
   ],
   "source": [
    "print (\"Hello, World!\")"
   ]
  },
  {
   "cell_type": "raw",
   "id": "4845802a-a7ed-43fd-83db-a4967ce447dc",
   "metadata": {},
   "source": [
    "Q2. Write a Python program that displays your name and age ?"
   ]
  },
  {
   "cell_type": "code",
   "execution_count": 11,
   "id": "e3de7a1b-b12d-439f-8a62-44d2168fe5bf",
   "metadata": {},
   "outputs": [
    {
     "name": "stdout",
     "output_type": "stream",
     "text": [
      "My name is   sahil sharma   and I am  25 years old.\n"
     ]
    }
   ],
   "source": [
    "name = \" sahil sharma  \"\n",
    "age  =  25\n",
    "print (\"My name is \", name,\"and I am \", age, \"years old.\")"
   ]
  },
  {
   "cell_type": "raw",
   "id": "f1644e60-4da0-4954-a90a-0796ea1c97c1",
   "metadata": {},
   "source": [
    "Q3.Write code to print all the pre - defined keywords in Python using the keyword library."
   ]
  },
  {
   "cell_type": "code",
   "execution_count": 12,
   "id": "e7ba4eef-28b3-48aa-a779-95477a530c2b",
   "metadata": {},
   "outputs": [
    {
     "name": "stdout",
     "output_type": "stream",
     "text": [
      "['False', 'None', 'True', 'and', 'as', 'assert', 'async', 'await', 'break', 'class', 'continue', 'def', 'del', 'elif', 'else', 'except', 'finally', 'for', 'from', 'global', 'if', 'import', 'in', 'is', 'lambda', 'nonlocal', 'not', 'or', 'pass', 'raise', 'return', 'try', 'while', 'with', 'yield']\n"
     ]
    }
   ],
   "source": [
    "import keyword \n",
    "print(keyword.kwlist)"
   ]
  },
  {
   "cell_type": "raw",
   "id": "110ba577-d644-43fb-8f7d-e69a3db4415e",
   "metadata": {},
   "source": [
    "Q4. Write a program that checks if a given word is a python keyword."
   ]
  },
  {
   "cell_type": "code",
   "execution_count": 26,
   "id": "29dcde3c-99f7-4212-8453-c87f34d5b3f8",
   "metadata": {},
   "outputs": [
    {
     "name": "stdout",
     "output_type": "stream",
     "text": [
      "'if is a python keyword.\n"
     ]
    }
   ],
   "source": [
    "import keyword\n",
    "\n",
    "word = \"if\"  # You can change this word\n",
    "if word in keyword.kwlist:\n",
    "    print (f\"'{word} is a python keyword.\")\n",
    "else:\n",
    "    print (f\"'{word} is not a python keyword.\")\n",
    "         "
   ]
  },
  {
   "cell_type": "raw",
   "id": "e4c256a8-1ae8-47e9-8d32-bda5dd5eda02",
   "metadata": {},
   "source": [
    "Q5. Create a list and tuple in python ,and demonstrate how attempting to change an element works different for each."
   ]
  },
  {
   "cell_type": "code",
   "execution_count": 30,
   "id": "366d6da5-222f-4ea2-aea0-4baa64b3d804",
   "metadata": {},
   "outputs": [
    {
     "name": "stdout",
     "output_type": "stream",
     "text": [
      "Cannot change element in tuple.\n"
     ]
    }
   ],
   "source": [
    "# modifying list\n",
    "lst = [1, 2, 3]\n",
    "lst[0] = 10  # This will work because lists are mutable\n",
    "\n",
    "# modifing the tuple\n",
    "tpl = (1, 2, 3)\n",
    "try:\n",
    "    tpl[0] = 10  # This will raise an error because tuples are immutable\n",
    "except TypeError:\n",
    "    print(\"Cannot change element in tuple.\")\n"
   ]
  },
  {
   "cell_type": "raw",
   "id": "48c2cf86-ed3a-4be0-89fa-1cb2b75a6452",
   "metadata": {},
   "source": [
    "Q6. Write a function to demonstrate the behavior of mutable and immutable arguments."
   ]
  },
  {
   "cell_type": "code",
   "execution_count": 32,
   "id": "5bec75db-d439-4103-91f3-1a923d782c7f",
   "metadata": {},
   "outputs": [
    {
     "name": "stdout",
     "output_type": "stream",
     "text": [
      "List: [1, 2, 3, 4]\n",
      "Number: 6\n"
     ]
    }
   ],
   "source": [
    "def test_mutability(lst, num):\n",
    "    lst.append(4)  # Mutable object\n",
    "    num += 1  # Immutable object\n",
    "    print(\"List:\", lst)\n",
    "    print(\"Number:\", num)\n",
    "\n",
    "my_list = [1, 2, 3]\n",
    "my_number = 5\n",
    "test_mutability(my_list, my_number)\n"
   ]
  },
  {
   "cell_type": "raw",
   "id": "6f71b0d0-1b0f-4265-a9aa-fde7b2a0a3a6",
   "metadata": {},
   "source": [
    "Q7. Write a program that performs basic arthmetics opetrations on two user - input number ?"
   ]
  },
  {
   "cell_type": "code",
   "execution_count": 34,
   "id": "fc3a3276-bdb0-4e49-bcb3-e40cdde34ffc",
   "metadata": {},
   "outputs": [
    {
     "name": "stdin",
     "output_type": "stream",
     "text": [
      "Enter first number:  10\n",
      "Enter second number:  2\n"
     ]
    },
    {
     "name": "stdout",
     "output_type": "stream",
     "text": [
      "Sum: 12.0\n",
      "Difference: 8.0\n",
      "Product: 20.0\n",
      "Division: 5.0\n"
     ]
    }
   ],
   "source": [
    "a = float(input(\"Enter first number: \"))\n",
    "b = float(input(\"Enter second number: \"))\n",
    "print(f\"Sum: {a + b}\")\n",
    "print(f\"Difference: {a - b}\")\n",
    "print(f\"Product: {a * b}\")\n",
    "print(f\"Division: {a / b}\")\n"
   ]
  },
  {
   "cell_type": "raw",
   "id": "8aa0cbe5-a028-454c-9056-0765161e230d",
   "metadata": {},
   "source": [
    "Q8.Write a program to demonstrate the use of logical operators?"
   ]
  },
  {
   "cell_type": "code",
   "execution_count": 35,
   "id": "81318044-ad49-444d-95a7-a0c1d846f310",
   "metadata": {},
   "outputs": [
    {
     "name": "stdout",
     "output_type": "stream",
     "text": [
      "False\n",
      "True\n",
      "False\n"
     ]
    }
   ],
   "source": [
    "x = True\n",
    "y = False\n",
    "print(x and y)  # False\n",
    "print(x or y)   # True\n",
    "print(not x)    # False\n"
   ]
  },
  {
   "cell_type": "raw",
   "id": "10622675-5af4-42ba-840c-527092bcfa48",
   "metadata": {},
   "source": [
    "Q9. Write a Python program to convert user input from string to integer, float, and boolean types?"
   ]
  },
  {
   "cell_type": "code",
   "execution_count": 38,
   "id": "ccd7c30f-5aac-4d22-a5fd-16e8cd2ba602",
   "metadata": {},
   "outputs": [
    {
     "name": "stdin",
     "output_type": "stream",
     "text": [
      "Enter a value:  4\n"
     ]
    },
    {
     "name": "stdout",
     "output_type": "stream",
     "text": [
      "Integer: 4, Float: 4.0, Boolean: True\n"
     ]
    }
   ],
   "source": [
    "user_input = input(\"Enter a value: \")\n",
    "int_val = int(user_input)\n",
    "float_val = float(user_input)\n",
    "bool_val = bool(user_input)\n",
    "print(f\"Integer: {int_val}, Float: {float_val}, Boolean: {bool_val}\")\n"
   ]
  },
  {
   "cell_type": "raw",
   "id": "fc0d6075-3061-4b39-ab01-7e49f6c35a78",
   "metadata": {},
   "source": [
    " Q10.Write code to demonstrate type casting with list elements ?"
   ]
  },
  {
   "cell_type": "code",
   "execution_count": 39,
   "id": "3b7e1062-19ae-4c57-a56d-098fdf91fa2d",
   "metadata": {},
   "outputs": [
    {
     "name": "stdout",
     "output_type": "stream",
     "text": [
      "[1.0, 2.0, 3.0]\n"
     ]
    }
   ],
   "source": [
    "lst = [1, 2, 3]\n",
    "lst = [float(x) for x in lst]  # Converting all elements to float\n",
    "print(lst)\n"
   ]
  },
  {
   "cell_type": "raw",
   "id": "b2fff80c-1767-41fa-ab35-ff28b847524e",
   "metadata": {},
   "source": [
    " Q11.Write a program that checks if a number is positive, negative, or zero ?"
   ]
  },
  {
   "cell_type": "code",
   "execution_count": 42,
   "id": "c8d3980e-f39c-4295-862a-25c7c0da50b9",
   "metadata": {},
   "outputs": [
    {
     "name": "stdin",
     "output_type": "stream",
     "text": [
      "Enter a number:  3\n"
     ]
    },
    {
     "name": "stdout",
     "output_type": "stream",
     "text": [
      "Negative\n"
     ]
    }
   ],
   "source": [
    "num = float(input(\"Enter a number: \"))\n",
    "if num > 5:\n",
    "    print(\"Positive\")\n",
    "elif num < 5:\n",
    "    print(\"Negative\")\n",
    "else:\n",
    "    print(\"Zero\")\n"
   ]
  },
  {
   "cell_type": "raw",
   "id": "dcb89522-cab4-4c45-9241-cc532ae48be2",
   "metadata": {},
   "source": [
    "Q12.Write a for loop to print numbers from 1 to 10?"
   ]
  },
  {
   "cell_type": "code",
   "execution_count": 44,
   "id": "e00f9507-7f18-4d15-9c2f-1291cca55f47",
   "metadata": {},
   "outputs": [
    {
     "name": "stdout",
     "output_type": "stream",
     "text": [
      "1\n",
      "2\n",
      "3\n",
      "4\n",
      "5\n",
      "6\n",
      "7\n",
      "8\n",
      "9\n",
      "10\n",
      "11\n",
      "12\n",
      "13\n",
      "14\n",
      "15\n",
      "16\n",
      "17\n",
      "18\n",
      "19\n"
     ]
    }
   ],
   "source": [
    "for i in range(1, 20):\n",
    "    print(i)\n"
   ]
  },
  {
   "cell_type": "raw",
   "id": "5b551f54-77e2-40b2-97ec-8a3e538a030f",
   "metadata": {},
   "source": [
    "Q13.Write a Python program to find the sum of all even numbers between 1 and 50?"
   ]
  },
  {
   "cell_type": "code",
   "execution_count": 46,
   "id": "1046c009-b604-4623-a212-0c293596333a",
   "metadata": {},
   "outputs": [
    {
     "name": "stdout",
     "output_type": "stream",
     "text": [
      "650\n"
     ]
    }
   ],
   "source": [
    "total = 0\n",
    "for i in range(2, 51, 2):\n",
    "    total += i\n",
    "print( total)\n"
   ]
  },
  {
   "cell_type": "raw",
   "id": "82ae204c-c5ea-4094-8d3d-b83f804668a5",
   "metadata": {},
   "source": [
    "Q14.Write a program to reverse a string using a while loop ?"
   ]
  },
  {
   "cell_type": "code",
   "execution_count": 54,
   "id": "29ee6afc-7ddd-47f9-8a49-1b314b837e8b",
   "metadata": {},
   "outputs": [
    {
     "name": "stdin",
     "output_type": "stream",
     "text": [
      "Enter a string:  W\n"
     ]
    },
    {
     "name": "stdout",
     "output_type": "stream",
     "text": [
      "Reversed string: 10W\n"
     ]
    }
   ],
   "source": [
    "s = input(\"Enter a string: \")\n",
    "reversed_s = \"10\"\n",
    "i = len(s) - 1\n",
    "while i >= 0:\n",
    "    reversed_s += s[i]\n",
    "    i -= 1\n",
    "print(\"Reversed string:\", reversed_s)\n"
   ]
  },
  {
   "cell_type": "raw",
   "id": "698bf992-c23d-466d-8d96-cf376f21e63e",
   "metadata": {},
   "source": [
    "Q15.Write a Python program to calculate the factorial of a number provided by the user using a while loop."
   ]
  },
  {
   "cell_type": "code",
   "execution_count": 58,
   "id": "19983260-1d65-454b-9147-d6cddfd6d3b2",
   "metadata": {},
   "outputs": [
    {
     "name": "stdin",
     "output_type": "stream",
     "text": [
      "Enter a number:  2\n"
     ]
    },
    {
     "name": "stdout",
     "output_type": "stream",
     "text": [
      "Factorial: 10\n"
     ]
    }
   ],
   "source": [
    "n = int(input(\"Enter a number: \"))\n",
    "factorial = 5\n",
    "while n > 0:\n",
    "    factorial *= n\n",
    "    n -= 1\n",
    "print(\"Factorial:\", factorial)\n"
   ]
  }
 ],
 "metadata": {
  "kernelspec": {
   "display_name": "Python 3 (ipykernel)",
   "language": "python",
   "name": "python3"
  },
  "language_info": {
   "codemirror_mode": {
    "name": "ipython",
    "version": 3
   },
   "file_extension": ".py",
   "mimetype": "text/x-python",
   "name": "python",
   "nbconvert_exporter": "python",
   "pygments_lexer": "ipython3",
   "version": "3.13.7"
  }
 },
 "nbformat": 4,
 "nbformat_minor": 5
}
